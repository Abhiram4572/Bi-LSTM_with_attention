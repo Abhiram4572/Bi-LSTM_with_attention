{
  "nbformat": 4,
  "nbformat_minor": 0,
  "metadata": {
    "colab": {
      "name": "Bi-LSTM With Attention - with testing on live news articles.ipynb",
      "provenance": [],
      "collapsed_sections": [],
      "toc_visible": true,
      "mount_file_id": "1QmLIdASscsPBYjG-G8DcR8iunIhpE3HC",
      "authorship_tag": "ABX9TyP6lpJGYC1m96EIb22VK0yP",
      "include_colab_link": true
    },
    "kernelspec": {
      "name": "python3",
      "display_name": "Python 3"
    },
    "accelerator": "GPU"
  },
  "cells": [
    {
      "cell_type": "markdown",
      "metadata": {
        "id": "view-in-github",
        "colab_type": "text"
      },
      "source": [
        "<a href=\"https://colab.research.google.com/github/Abhiram4572/Bi-LSTM_with_attention/blob/main/Bi_LSTM_With_Attention_with_testing_on_live_news_articles.ipynb\" target=\"_parent\"><img src=\"https://colab.research.google.com/assets/colab-badge.svg\" alt=\"Open In Colab\"/></a>"
      ]
    },
    {
      "cell_type": "markdown",
      "metadata": {
        "id": "JjqZjNF2r-QS"
      },
      "source": [
        "# Imports"
      ]
    },
    {
      "cell_type": "code",
      "metadata": {
        "id": "EbSJUMPWmXV1",
        "colab": {
          "base_uri": "https://localhost:8080/"
        },
        "outputId": "4f0d5c2d-f163-4fc2-bdbe-de74962fe823"
      },
      "source": [
        "import os\n",
        "import sys\n",
        "import torch\n",
        "from torch.nn import functional as F\n",
        "import numpy as np\n",
        "from torchtext import data\n",
        "from torchtext import datasets\n",
        "from torchtext.vocab import Vectors, GloVe\n",
        "from torch.autograd import Variable\n",
        "import torch.nn as nn\n",
        "import requests\n",
        "from bs4 import BeautifulSoup\n",
        "import pandas as pd\n",
        "from nltk.tokenize import word_tokenize\n",
        "import time\n",
        "import nltk\n",
        "nltk.download('punkt')"
      ],
      "execution_count": null,
      "outputs": [
        {
          "output_type": "stream",
          "text": [
            "[nltk_data] Downloading package punkt to /root/nltk_data...\n",
            "[nltk_data]   Unzipping tokenizers/punkt.zip.\n"
          ],
          "name": "stdout"
        },
        {
          "output_type": "execute_result",
          "data": {
            "text/plain": [
              "True"
            ]
          },
          "metadata": {
            "tags": []
          },
          "execution_count": 2
        }
      ]
    },
    {
      "cell_type": "markdown",
      "metadata": {
        "id": "ZN83SkjLsSTP"
      },
      "source": [
        "# Create Placeholders and load the data"
      ]
    },
    {
      "cell_type": "code",
      "metadata": {
        "id": "rqbGzMi5mcjT",
        "colab": {
          "base_uri": "https://localhost:8080/"
        },
        "outputId": "eb9dce46-bb1b-475a-8b54-2c69c68e7c4c"
      },
      "source": [
        "tokenize = lambda x : word_tokenize(x)\n",
        "TEXT = data.Field(tokenize=tokenize,lower=True,include_lengths=True,batch_first=True,fix_length=200)\n",
        "LABEL = data.LabelField()\n",
        "train_data,test_data = datasets.IMDB.splits(TEXT,LABEL)"
      ],
      "execution_count": null,
      "outputs": [
        {
          "output_type": "stream",
          "text": [
            "\raclImdb_v1.tar.gz:   0%|          | 0.00/84.1M [00:00<?, ?B/s]"
          ],
          "name": "stderr"
        },
        {
          "output_type": "stream",
          "text": [
            "downloading aclImdb_v1.tar.gz\n"
          ],
          "name": "stdout"
        },
        {
          "output_type": "stream",
          "text": [
            "aclImdb_v1.tar.gz: 100%|██████████| 84.1M/84.1M [00:03<00:00, 23.3MB/s]\n"
          ],
          "name": "stderr"
        }
      ]
    },
    {
      "cell_type": "markdown",
      "metadata": {
        "id": "b1w419DbshZg"
      },
      "source": [
        "# Build Vocabulary and Load Glove embeddings"
      ]
    },
    {
      "cell_type": "code",
      "metadata": {
        "id": "UyT3kT6nnPG1",
        "colab": {
          "base_uri": "https://localhost:8080/"
        },
        "outputId": "a4dd2445-c8de-4d26-9834-196ae9905092"
      },
      "source": [
        "TEXT.build_vocab(train_data,vectors=GloVe(name='6B',dim=300))\n",
        "LABEL.build_vocab(train_data)\n",
        "word_embeddings = TEXT.vocab.vectors\n",
        "vocab_size = len(TEXT.vocab)\n",
        "print (\"\\nLength of Vocabulary: \" + str(len(TEXT.vocab)))\n",
        "print (\"Vector size of Text Vocabulary: \", TEXT.vocab.vectors.size())"
      ],
      "execution_count": null,
      "outputs": [
        {
          "output_type": "stream",
          "text": [
            ".vector_cache/glove.6B.zip: 862MB [06:27, 2.22MB/s]                           \n",
            "100%|█████████▉| 399840/400000 [00:37<00:00, 10827.35it/s]"
          ],
          "name": "stderr"
        },
        {
          "output_type": "stream",
          "text": [
            "\n",
            "Length of Vocabulary: 114422\n",
            "Vector size of Text Vocabulary:  torch.Size([114422, 300])\n"
          ],
          "name": "stdout"
        }
      ]
    },
    {
      "cell_type": "markdown",
      "metadata": {
        "id": "fg5zQO8Ksqsk"
      },
      "source": [
        "# Create Train, validation and test splits"
      ]
    },
    {
      "cell_type": "code",
      "metadata": {
        "id": "xGyPTYEltohm"
      },
      "source": [
        "train_data,valid_data = train_data.split()\n",
        "train_iter, valid_iter, test_iter = data.BucketIterator.splits((train_data, valid_data, test_data), batch_size=32, sort_key=lambda x: len(x.text), shuffle=True)"
      ],
      "execution_count": null,
      "outputs": []
    },
    {
      "cell_type": "markdown",
      "metadata": {
        "id": "nnp9EgTfsvUH"
      },
      "source": [
        "# Define Model (Bi-LSTM with Attention)"
      ]
    },
    {
      "cell_type": "code",
      "metadata": {
        "id": "EpzR1_ORtqQG"
      },
      "source": [
        "class AttentionModel(torch.nn.Module):\n",
        "    def __init__(self,batch_size,output_size,hidden_size,vocab_size,embedding_length,weights):\n",
        "        super(AttentionModel,self).__init__()\n",
        "        self.batch_size = batch_size\n",
        "        self.output_size = output_size\n",
        "        self.hidden_size = hidden_size\n",
        "        self.vocab_size = vocab_size\n",
        "        self.embedding_length = embedding_length\n",
        "        self.word_embeddings = nn.Embedding(vocab_size,embedding_length)\n",
        "        self.word_embeddings.weights = nn.Parameter(weights,requires_grad=False)\n",
        "        self.lstm = nn.LSTM(embedding_length,hidden_size,bidirectional=True)\n",
        "        self.label = nn.Linear(hidden_size, output_size)\n",
        "        \n",
        "    def attention_net(self,lstm_output,final_state):\n",
        "        hidden = final_state.squeeze(0)\n",
        "        attn_weights = torch.bmm(lstm_output, hidden.unsqueeze(2)).squeeze(2)\n",
        "        soft_attn_weights = F.softmax(attn_weights, 1)\n",
        "        new_hidden_state = torch.bmm(lstm_output.transpose(1, 2), soft_attn_weights.unsqueeze(2)).squeeze(2)\n",
        "        return new_hidden_state\n",
        "    \n",
        "    def forward(self,input_sentences,batch_size=None):\n",
        "        i_t = self.word_embeddings(input_sentences) \n",
        "        i_t = i_t.permute(1,0,2)\n",
        "        if batch_size is None:\n",
        "            h_0 = Variable(torch.zeros(1, self.batch_size, self.hidden_size).cuda())\n",
        "            c_0 = Variable(torch.zeros(1, self.batch_size, self.hidden_size).cuda())  \n",
        "        else:\n",
        "            h_0 = Variable(torch.zeros(1,batch_size,self.hidden_size).cuda())\n",
        "            c_0 = Variable(torch.zeros(1,batch_size,self.hidden_size).cuda())\n",
        "        output, (final_hidden_state,final_cell_state) = self.lstm(i_t,(h_0,c_0))\n",
        "        output = output.permute(1,0,2)\n",
        "        attn_output = self.attention_net(output,final_hidden_state)\n",
        "        scores = self.label(attn_output)\n",
        "        return scores"
      ],
      "execution_count": null,
      "outputs": []
    },
    {
      "cell_type": "markdown",
      "metadata": {
        "id": "YWOVlM1HtK5g"
      },
      "source": [
        "# train function, evaluate function and some util functions"
      ]
    },
    {
      "cell_type": "code",
      "metadata": {
        "id": "uI9Tdf6At1fb"
      },
      "source": [
        "def clip_gradient(model, clip_value):\n",
        "    params = list(filter(lambda p: p.grad is not None, model.parameters()))\n",
        "    for p in params:\n",
        "        p.grad.data.clamp_(-clip_value, clip_value)\n",
        "\n",
        "def train_model(model,train_iter,train_flag):\n",
        "    epoch_loss = 0\n",
        "    epoch_acc = 0\n",
        "    model.cuda()\n",
        "    optim = torch.optim.Adam(filter(lambda p:p.requires_grad, model.parameters()))\n",
        "    steps = 0\n",
        "    model.train()\n",
        "    for idx,batch in enumerate(train_iter):\n",
        "        text = batch.text[0]\n",
        "        target = batch.label\n",
        "        target = torch.autograd.Variable(target).long()\n",
        "        if torch.cuda.is_available():\n",
        "            text = text.cuda()\n",
        "            target = target.cuda()\n",
        "        if (text.size()[0] != 32):\n",
        "            continue\n",
        "        \n",
        "        pred = model(text)\n",
        "        loss = loss_fn(pred,target)\n",
        "        correct_ops = (torch.max(pred, 1)[1].view(target.size()).data == target.data).float().sum()\n",
        "        accuracy = 100.0 * correct_ops/len(batch)\n",
        "        if train_flag:\n",
        "            optim.zero_grad()\n",
        "            loss.backward()\n",
        "            clip_gradient(model,1e-1)\n",
        "            optim.step()\n",
        "            steps += 1\n",
        "        epoch_loss += loss.item()\n",
        "        epoch_acc += accuracy\n",
        "    avg_loss = epoch_loss/len(train_iter)\n",
        "    total_accuracy = epoch_acc.item()/len(train_iter)\n",
        "    return [avg_loss,total_accuracy]\n",
        "\n",
        "def eval_model(model,train_iter):\n",
        "    epoch_loss = 0\n",
        "    epoch_acc = 0\n",
        "    model.cuda()\n",
        "    with torch.no_grad():\n",
        "        for idx,batch in enumerate(train_iter):\n",
        "            text = batch.text[0]\n",
        "            if (text.size()[0] != 32):\n",
        "                continue\n",
        "            target = batch.label\n",
        "            target = torch.autograd.Variable(target).long()\n",
        "            if torch.cuda.is_available():\n",
        "                text = text.cuda()\n",
        "                target = target.cuda()\n",
        "            pred = model(text)\n",
        "            loss = loss_fn(pred,target)\n",
        "            correct_ops = (torch.max(pred, 1)[1].view(target.size()).data == target.data).float().sum()\n",
        "            accuracy = 100.0 * correct_ops/len(batch)\n",
        "            epoch_loss += loss.item()\n",
        "            epoch_acc += accuracy\n",
        "        avg_loss = epoch_loss/len(train_iter)\n",
        "        total_accuracy = epoch_acc.item()/len(train_iter)\n",
        "        return [avg_loss,total_accuracy]"
      ],
      "execution_count": null,
      "outputs": []
    },
    {
      "cell_type": "markdown",
      "metadata": {
        "id": "O6ga_APVtd4G"
      },
      "source": [
        "# Hyperparameters"
      ]
    },
    {
      "cell_type": "code",
      "metadata": {
        "id": "2A9IS0nlt4U_"
      },
      "source": [
        "batch_size = 32\n",
        "output_size = 2\n",
        "hidden_size = 256\n",
        "embedding_length = 300"
      ],
      "execution_count": null,
      "outputs": []
    },
    {
      "cell_type": "markdown",
      "metadata": {
        "id": "RrykVmiythrS"
      },
      "source": [
        "# Initate the Model"
      ]
    },
    {
      "cell_type": "code",
      "metadata": {
        "id": "pRRxy2umt6O4"
      },
      "source": [
        "model = AttentionModel(batch_size,output_size,hidden_size,vocab_size,embedding_length,word_embeddings)\n",
        "loss_fn = F.cross_entropy"
      ],
      "execution_count": null,
      "outputs": []
    },
    {
      "cell_type": "markdown",
      "metadata": {
        "id": "07UrKDont6hQ"
      },
      "source": [
        "# Train Model"
      ]
    },
    {
      "cell_type": "code",
      "metadata": {
        "id": "XDCW3ii1t7jJ",
        "colab": {
          "base_uri": "https://localhost:8080/"
        },
        "outputId": "cb4204d2-075f-4841-b458-6ad8ca463b27"
      },
      "source": [
        "train_loss = []\n",
        "total_start = time.time()\n",
        "for epoch in range(20):\n",
        "    start = time.time()\n",
        "    train_info = train_model(model,train_iter,True)\n",
        "    train_loss.append(train_info[0])\n",
        "    end = time.time()\n",
        "    print(\"Epoch \"+str(epoch))\n",
        "    print(\"Train Loss \"+ str(train_info[0]) + \" Train Accuracy \"+ str(train_info[1]))\n",
        "    print(\"Time taken for epoch is \"+str(end-start))\n",
        "    print('----------\\n')\n",
        "total_end = time.time()\n",
        "print(\"Total training time \"+str(total_end-total_start))"
      ],
      "execution_count": null,
      "outputs": [
        {
          "output_type": "stream",
          "text": [
            "Epoch 0\n",
            "Train Loss 0.6605933528713596 Train Accuracy 60.87180073126142\n",
            "Time taken for epoch is 26.591073274612427\n",
            "----------\n",
            "\n",
            "Epoch 1\n",
            "Train Loss 0.4668132898413067 Train Accuracy 78.09643510054845\n",
            "Time taken for epoch is 16.03441095352173\n",
            "----------\n",
            "\n",
            "Epoch 2\n",
            "Train Loss 0.29593820993871967 Train Accuracy 87.88276965265082\n",
            "Time taken for epoch is 16.075244188308716\n",
            "----------\n",
            "\n",
            "Epoch 3\n",
            "Train Loss 0.1764943404072109 Train Accuracy 93.24154478976234\n",
            "Time taken for epoch is 16.037344932556152\n",
            "----------\n",
            "\n",
            "Epoch 4\n",
            "Train Loss 0.09119091867988545 Train Accuracy 96.66361974405851\n",
            "Time taken for epoch is 16.144171476364136\n",
            "----------\n",
            "\n",
            "Epoch 5\n",
            "Train Loss 0.043636184749516985 Train Accuracy 98.40607861060329\n",
            "Time taken for epoch is 16.2226881980896\n",
            "----------\n",
            "\n",
            "Epoch 6\n",
            "Train Loss 0.022735922652630008 Train Accuracy 99.154478976234\n",
            "Time taken for epoch is 16.267990112304688\n",
            "----------\n",
            "\n",
            "Epoch 7\n",
            "Train Loss 0.013542690105331675 Train Accuracy 99.45726691042047\n",
            "Time taken for epoch is 16.31441378593445\n",
            "----------\n",
            "\n",
            "Epoch 8\n",
            "Train Loss 0.010928144265210386 Train Accuracy 99.5201096892139\n",
            "Time taken for epoch is 16.298131465911865\n",
            "----------\n",
            "\n",
            "Epoch 9\n",
            "Train Loss 0.00715759390351433 Train Accuracy 99.60009140767825\n",
            "Time taken for epoch is 16.362435817718506\n",
            "----------\n",
            "\n",
            "Epoch 10\n",
            "Train Loss 0.005113654080940008 Train Accuracy 99.66864716636198\n",
            "Time taken for epoch is 16.375537157058716\n",
            "----------\n",
            "\n",
            "Epoch 11\n",
            "Train Loss 0.006338522761145619 Train Accuracy 99.61151736745887\n",
            "Time taken for epoch is 16.37572979927063\n",
            "----------\n",
            "\n",
            "Epoch 12\n",
            "Train Loss 0.005794726530087976 Train Accuracy 99.60009140767825\n",
            "Time taken for epoch is 16.465659618377686\n",
            "----------\n",
            "\n",
            "Epoch 13\n",
            "Train Loss 0.003443717391953297 Train Accuracy 99.70292504570384\n",
            "Time taken for epoch is 16.553183794021606\n",
            "----------\n",
            "\n",
            "Epoch 14\n",
            "Train Loss 0.003174526861428743 Train Accuracy 99.73720292504571\n",
            "Time taken for epoch is 16.50822424888611\n",
            "----------\n",
            "\n",
            "Epoch 15\n",
            "Train Loss 0.004641436790894298 Train Accuracy 99.68578610603291\n",
            "Time taken for epoch is 16.458232164382935\n",
            "----------\n",
            "\n",
            "Epoch 16\n",
            "Train Loss 0.0034408195717387275 Train Accuracy 99.74862888482633\n",
            "Time taken for epoch is 16.472440242767334\n",
            "----------\n",
            "\n",
            "Epoch 17\n",
            "Train Loss 0.0018198822058012791 Train Accuracy 99.78290676416819\n",
            "Time taken for epoch is 16.51449489593506\n",
            "----------\n",
            "\n",
            "Epoch 18\n",
            "Train Loss 0.003914963323024633 Train Accuracy 99.72006398537476\n",
            "Time taken for epoch is 16.55087184906006\n",
            "----------\n",
            "\n",
            "Epoch 19\n",
            "Train Loss 0.005826700755672587 Train Accuracy 99.62294332723948\n",
            "Time taken for epoch is 16.529985666275024\n",
            "----------\n",
            "\n",
            "Total training time 337.15971779823303\n"
          ],
          "name": "stdout"
        }
      ]
    },
    {
      "cell_type": "markdown",
      "metadata": {
        "id": "2-KAQpt7uB6m"
      },
      "source": [
        "# Evaluate the model on test data"
      ]
    },
    {
      "cell_type": "code",
      "metadata": {
        "id": "KIPG4rdut9RD"
      },
      "source": [
        "test_loss, test_acc = eval_model(model, test_iter)"
      ],
      "execution_count": null,
      "outputs": []
    },
    {
      "cell_type": "code",
      "metadata": {
        "id": "cIi21Ao6xMCg",
        "colab": {
          "base_uri": "https://localhost:8080/"
        },
        "outputId": "0d03d469-f85a-4ae3-a11a-d0c47421019d"
      },
      "source": [
        "print(test_loss)\n",
        "print(test_acc)"
      ],
      "execution_count": null,
      "outputs": [
        {
          "output_type": "stream",
          "text": [
            "1.6271028598047592\n",
            "80.41480179028133\n"
          ],
          "name": "stdout"
        }
      ]
    },
    {
      "cell_type": "markdown",
      "metadata": {
        "id": "OqZBOUSa03mQ"
      },
      "source": [
        "# Crawl live news from livemint.com"
      ]
    },
    {
      "cell_type": "code",
      "metadata": {
        "id": "IEEk815DxNgf",
        "colab": {
          "base_uri": "https://localhost:8080/"
        },
        "outputId": "f08cfbf5-119a-429a-b1fd-eeb749269aa6"
      },
      "source": [
        "r1 = requests.get('https://www.livemint.com/')\n",
        "coverpage = r1.content\n",
        "\n",
        "soup1 = BeautifulSoup(coverpage, 'html.parser')\n",
        "\n",
        "coverpage_news = soup1.find_all('h2', class_='headline')\n",
        "\n",
        "print(coverpage_news)\n",
        "\n",
        "# Scraping the first 5 articles\n",
        "number_of_articles = 40\n",
        "\n",
        "# Empty lists for content, links and titles\n",
        "news_contents = []\n",
        "list_links = []\n",
        "list_titles = []\n",
        "\n",
        "for n in np.arange(0, number_of_articles):\n",
        "    \n",
        "    # only news articles (there are also albums and other things)\n",
        "    #if \"live\" not in coverpage_news[n].find('a')['href']:  \n",
        "    #    continue\n",
        "    print(n)\n",
        "    # Getting the link of the article\n",
        "    try :\n",
        "\n",
        "      link = coverpage_news[n].find('a')['href']\n",
        "      #print(link)\n",
        "      \n",
        "      if link.startswith(('https://www.livemint.com')):\n",
        "\n",
        "        list_links.append(link)\n",
        "        #print(list_links)\n",
        "      else:\n",
        "        #print(link)\n",
        "        link = str('https://www.livemint.com') + str(link)\n",
        "        list_links.append(link)\n",
        "        #print(list_links)\n",
        "      \n",
        "      # Getting the title\n",
        "      title = coverpage_news[n].find('a').get_text()\n",
        "      list_titles.append(title)\n",
        "      #print(list_titles)\n",
        "      \n",
        "      # Reading the content (it is divided in paragraphs)\n",
        "      article = requests.get(link)\n",
        "      article_content = article.content\n",
        "      soup_article = BeautifulSoup(article_content, 'html.parser')\n",
        "      body = soup_article.find_all('div', class_='mainArea')\n",
        "      x = body[0].find_all('p')\n",
        "      \n",
        "      # Unifying the paragraphs\n",
        "      list_paragraphs = []\n",
        "      for p in np.arange(0, len(x)):\n",
        "          paragraph = x[p].get_text()\n",
        "          list_paragraphs.append(paragraph)\n",
        "          final_article = \" \".join(list_paragraphs)\n",
        "          \n",
        "      news_contents.append(final_article)\n",
        "      #print(news_contents)\n",
        "    except TypeError:\n",
        "      print(n)\n",
        "  \n",
        "#print(list_links)\n",
        "\n",
        "df = pd.DataFrame({'Links': list_links,'Heading': list_titles,'Content': news_contents,})\n",
        "\n",
        "print(df)"
      ],
      "execution_count": null,
      "outputs": [
        {
          "output_type": "stream",
          "text": [
            "[<h2 class=\"headline\" data-mob=\"Sales to normalise by Jan-end, getting orders from Jio Mart: Kishore Biyani\" data-reg=\"Sales to normalise by Jan-end, getting orders from Jio Mart: Kishore Biyani\" data-title=\"Sales to normalise by Jan-end, getting orders from Jio Mart: Kishore Biyani\" id=\"headline_11610266201545\"><a href=\"https://www.livemint.com/companies/people/sales-to-normalise-by-jan-end-getting-orders-from-jio-mart-kishore-biyani-11610266201545.html\" onclick=\"event.preventDefault();\">Sales to normalise by Jan-end, getting orders from Jio Mart: Kishore Biyani</a></h2>, <h2 class=\"headline\"><a href=\"/technology/tech-news/the-danger-of-exaggerating-china-s-technological-prowess-11610212952365.html\">The danger of exaggerating China’s technological prowess</a></h2>, <h2 class=\"headline\"><a href=\"/news/world/what-we-already-know-about-investing-in-2021-11610212587732.html\">What we already know about investing in 2021</a></h2>, <h2 class=\"headline\"><a href=\"/news/world/microsoft-designer-fell-out-of-bed-and-found-a-mission-11610212244280.html\">Microsoft designer fell out of bed and found a mission</a></h2>, <h2 class=\"headline\"><a href=\"/news/world/where-to-travel-after-covid-25-inspiring-escapes-11610211564488.html\">Where to travel after Covid? 25 inspiring escapes</a></h2>, <h2 class=\"headline\"><a href=\"/news/world/what-kids-can-learn-from-losing-11610181225172.html\">What kids can learn from losing</a></h2>, <h2 class=\"headline\" data-mob=\"Ahead of Covid vaccination drive, Centre guides states/UTs on Co-WIN management\" data-reg=\"Ahead of Covid vaccination drive, Centre guides states/UTs on Co-WIN management\" data-title=\"Ahead of Covid vaccination drive, Centre guides states/UTs on Co-WIN management\" id=\"headline_11610271263200\"><a href=\"https://www.livemint.com/news/india/ahead-of-covid-vaccination-drive-centre-guides-states-uts-on-co-win-management-11610271263200.html\" onclick=\"event.preventDefault();\">Ahead of Covid vaccination drive, Centre guides states/UTs on Co-WIN management</a></h2>, <h2 class=\"headline\" data-mob=\"Still not filed your Income Tax Returns? Extended deadline ends today\" data-reg=\"Still not filed your Income Tax Returns? Extended deadline ends today\" data-title=\"Still not filed your Income Tax Returns? Extended deadline ends today\" id=\"headline_11610262013875\"><a href=\"https://www.livemint.com/news/india/still-not-filed-your-income-tax-returns-itr-extended-deadline-ends-today-11610262013875.html\" onclick=\"event.preventDefault();\">Still not filed your Income Tax Returns? Extended deadline ends today</a></h2>, <h2 class=\"headline\" data-mob=\"Bollywood looking to beat the blues in 2021\" data-reg=\"Bollywood looking to beat the blues in 2021\" data-title=\"Bollywood looking to beat the blues in 2021\" id=\"headline_11610256032348\"><a href=\"https://www.livemint.com/industry/media/bollywood-looking-to-beat-the-blues-in-2021-11610256032348.html\" onclick=\"event.preventDefault();\">Bollywood looking to beat the blues in 2021</a></h2>, <h2 class=\"headline\" data-mob=\"SBI revises fixed deposit (FD) rates. Latest FD rates here\" data-reg=\"SBI revises fixed deposit (FD) rates. Latest FD rates here\" data-title=\"SBI revises fixed deposit (FD) rates. Latest FD rates here\" id=\"headline_11610259680785\"><a href=\"https://www.livemint.com/money/personal-finance/sbi-revises-fixed-deposit-fd-rates-latest-fd-rates-here-11610259680785.html\" onclick=\"event.preventDefault();\">SBI revises fixed deposit (FD) rates. Latest FD rates here</a></h2>, <h2 class=\"headline\" data-mob=\"Kishore Biyani sees quick OK of Future's $3.4 bn deal despite Amazon dispute\" data-reg=\"Kishore Biyani sees quick OK of Future's $3.4 billion deal despite Amazon dispute\" data-title=\"Kishore Biyani sees quick OK of Future's $3.4 billion deal despite Amazon dispute\" id=\"headline_11610261333030\"><a href=\"https://www.livemint.com/companies/people/kishore-biyani-sees-quick-ok-of-future-s-3-4-billion-deal-despite-amazon-dispute-11610261333030.html\" onclick=\"event.preventDefault();\">Kishore Biyani sees quick OK of Future's $3.4 bn deal despite Amazon dispute</a></h2>, <h2 class=\"headline\" data-mob=\"Why gold prices slumped  &lt;span class='webrupee'&gt;₹&lt;/span&gt;2,000 in a day and silver crashed  &lt;span class='webrupee'&gt;₹&lt;/span&gt;6,000\" data-reg=\"Why gold prices slumped  &lt;span class='webrupee'&gt;₹&lt;/span&gt;2,000 in a day and silver crashed  &lt;span class='webrupee'&gt;₹&lt;/span&gt;6,000\" data-title=\"Why gold prices slumped  ₹2,000 in a day and silver crashed  ₹6,000\" id=\"headline_11610262007815\"><a href=\"https://www.livemint.com/market/commodities/why-gold-prices-slumped-rs-2-000-in-a-day-and-silver-crashed-rs-6000-11610262007815.html\" onclick=\"event.preventDefault();\">Why gold prices slumped  <span class=\"webrupee\">₹</span>2,000 in a day and silver crashed  <span class=\"webrupee\">₹</span>6,000</a></h2>, <h2 class=\"headline\" data-mob=\"Seven of top 10 most valued firms add over  &lt;span class='webrupee'&gt;₹&lt;/span&gt;1.37 lakh cr in market valuation\" data-reg=\"Seven of the top 10 most valued firms add over  &lt;span class='webrupee'&gt;₹&lt;/span&gt;1.37 lakh crore in market valuation\" data-title=\"Seven of the top 10 most valued firms add over  ₹1.37 lakh crore in market valuation\" id=\"headline_11610255138177\"><a href=\"https://www.livemint.com/companies/news/seven-most-valued-firms-add-over-rs-1-37-lakh-cr-in-market-valuation-11610255138177.html\" onclick=\"event.preventDefault();\">Seven of top 10 most valued firms add over  <span class=\"webrupee\">₹</span>1.37 lakh cr in market valuation</a></h2>, <h2 class=\"headline\" data-mob=\"'Highly infectious' new Covid-19 strain in India: No fresh case in last 24 hours\" data-reg=\"'Highly infectious' new Covid-19 strain in India: No fresh case in last 24 hours\" data-title=\"'Highly infectious' new Covid-19 strain in India: No fresh case in last 24 hours\" id=\"headline_11610264620480\"><a href=\"https://www.livemint.com/news/india/highly-infectious-new-covid-19-strain-in-india-no-fresh-case-in-last-24-hours-11610264620480.html\" onclick=\"event.preventDefault();\">'Highly infectious' new Covid-19 strain in India: No fresh case in last 24 hours</a></h2>, <h2 class=\"headline\" data-mob=\"89 Covid vaccination sites identified in Delhi: Health Minister\" data-reg=\"89 Covid vaccination sites identified in Delhi: Health Minister\" data-title=\"89 Covid vaccination sites identified in Delhi: Health Minister\" id=\"headline_11610265042285\"><a href=\"https://www.livemint.com/news/india/89-covid-vaccination-sites-identified-in-delhi-health-minister-11610265042285.html\" onclick=\"event.preventDefault();\">89 Covid vaccination sites identified in Delhi: Health Minister</a></h2>, <h2 class=\"headline\" data-mob=\"'Free Covid-19 vaccine for everyone in Bengal': Mamata Banerjee\" data-reg=\"'Free Covid-19 vaccine for everyone in Bengal': Mamata Banerjee\" data-title=\"'Free Covid-19 vaccine for everyone in Bengal': Mamata Banerjee\" id=\"headline_11610266240875\"><a href=\"https://www.livemint.com/politics/news/free-covid-19-vaccine-for-everyone-in-bengal-mamata-banerjee-11610266240875.html\" onclick=\"event.preventDefault();\">'Free Covid-19 vaccine for everyone in Bengal': Mamata Banerjee</a></h2>, <h2 class=\"headline\" data-mob=\"India reports 18,645 new Covid-19 cases in a day; over 1 crore recovered so far\" data-reg=\"India reports 18,645 new Covid-19 cases in a day; over 1 crore recovered so far\" data-title=\"India reports 18,645 new Covid-19 cases in a day; over 1 crore recovered so far\" id=\"headline_11610251427839\"><a href=\"https://www.livemint.com/news/india/india-reports-18-645-new-covid-19-cases-in-a-day-over-1-crore-recovered-so-far-11610251427839.html\" onclick=\"event.preventDefault();\">India reports 18,645 new Covid-19 cases in a day; over 1 crore recovered so far</a></h2>, <h2 class=\"headline\" data-mob=\"What kind of returns to expect from index mutual funds? All you want to know\" data-reg=\"What kind of returns to expect from index mutual funds? All you want to know\" data-title=\"What kind of returns to expect from index mutual funds? All you want to know\" id=\"headline_11610246467669\"><a href=\"https://www.livemint.com/mutual-fund/mf-news/what-kind-of-returns-to-expect-from-index-mutual-funds-all-you-want-to-know-11610246467669.html\" onclick=\"event.preventDefault();\">What kind of returns to expect from index mutual funds? All you want to know</a></h2>, <h2 class=\"headline\" data-mob=\"PM Narendra Modi to address valedictory function of 2nd NYPF on 12 January\" data-reg=\"PM Narendra Modi to address valedictory function of 2nd National Youth Parliament Festival on 12 January\" data-title=\"PM Narendra Modi to address valedictory function of 2nd National Youth Parliament Festival on 12 January\" id=\"headline_11610264977499\"><a href=\"https://www.livemint.com/news/india/pm-narendra-modi-to-address-valedictory-function-of-2nd-national-youth-parliament-festival-on-12-january-11610264977499.html\" onclick=\"event.preventDefault();\">PM Narendra Modi to address valedictory function of 2nd NYPF on 12 January</a></h2>, <h2 class=\"headline\" data-mob=\"Pakistan hit by nationwide power blackout\" data-reg=\"Pakistan hit by nationwide power blackout\" data-title=\"Pakistan hit by nationwide power blackout\" id=\"headline_11610262654480\"><a href=\"https://www.livemint.com/news/world/pakistan-hit-by-nationwide-power-blackout-11610262654480.html\" onclick=\"event.preventDefault();\">Pakistan hit by nationwide power blackout</a></h2>, <h2 class=\"headline\" data-mob=\"4 months after stock market breach, New Zealand central bank data system hacked\" data-reg=\"4 months after stock market breach, New Zealand central bank data system hacked\" data-title=\"4 months after stock market breach, New Zealand central bank data system hacked\" id=\"headline_11610257719202\"><a href=\"https://www.livemint.com/news/world/4-months-after-stock-market-breach-new-zealand-central-bank-data-system-hacked-11610257719202.html\" onclick=\"event.preventDefault();\">4 months after stock market breach, New Zealand central bank data system hacked</a></h2>, <h2 class=\"headline\" data-mob=\"Government clarifies on KYC norms for jewellery purchase\" data-reg=\"Government clarifies on KYC norms for jewellery purchase\" data-title=\"Government clarifies on KYC norms for jewellery purchase\" id=\"headline_11610261850153\"><a href=\"https://www.livemint.com/politics/policy/government-clarifies-on-kyc-norms-for-jewellery-purchase-11610261850153.html\" onclick=\"event.preventDefault();\">Government clarifies on KYC norms for jewellery purchase</a></h2>, <h2 class=\"headline\" data-mob=\"Body parts found at Indonesian plane crash site: Official\" data-reg=\"Body parts found at Indonesian plane crash site: Official\" data-title=\"Body parts found at Indonesian plane crash site: Official\" id=\"headline_11610242671076\"><a href=\"https://www.livemint.com/news/world/body-parts-found-at-indonesian-plane-crash-site-official-11610242671076.html\" onclick=\"event.preventDefault();\">Body parts found at Indonesian plane crash site: Official</a></h2>, <h2 class=\"headline\" data-mob=\"After Google, Apple suspends Parler from App Store for instigating Capitol riots\" data-reg=\"After Google, Apple suspends Parler from App Store for instigating Capitol riots\" data-title=\"After Google, Apple suspends Parler from App Store for instigating Capitol riots\" id=\"headline_11610242026629\"><a href=\"https://www.livemint.com/technology/apps/after-google-apple-suspends-parler-from-app-store-for-instigating-capitol-riots-11610242026629.html\" onclick=\"event.preventDefault();\">After Google, Apple suspends Parler from App Store for instigating Capitol riots</a></h2>, <h2 class=\"headline\" data-mob=\"In a first, all-women Air India crew fly from San Francisco to Bengaluru\" data-reg=\"In a first, all-women Air India crew fly from San Francisco to Bengaluru\" data-title=\"In a first, all-women Air India crew fly from San Francisco to Bengaluru\" id=\"headline_11610256789552\"><a href=\"https://www.livemint.com/companies/news/in-a-first-all-women-air-india-crew-fly-from-san-fransisco-to-bengaluru-11610256789552.html\" onclick=\"event.preventDefault();\">In a first, all-women Air India crew fly from San Francisco to Bengaluru</a></h2>, <h2 class=\"headline\" data-mob=\"Angel Broking's top stock picks for January\" data-reg=\"Angel Broking's top stock picks for January\" data-title=\"Angel Broking's top stock picks for January\" id=\"headline_11610256786097\"><a href=\"https://www.livemint.com/market/stock-market-news/angel-broking-s-top-stock-picks-for-january-11610256786097.html\" onclick=\"event.preventDefault();\">Angel Broking's top stock picks for January</a></h2>, <h2 class=\"headline\" data-mob=\"Suvendu Adhikari's Nandigram office vandalised\" data-reg=\"Suvendu Adhikari's Nandigram office vandalised\" data-title=\"Suvendu Adhikari's Nandigram office vandalised\" id=\"headline_11610256491644\"><a href=\"https://www.livemint.com/news/india/suvendu-adhikari-s-nandigram-office-vandalised-11610256491644.html\" onclick=\"event.preventDefault();\">Suvendu Adhikari's Nandigram office vandalised</a></h2>, <h2 class=\"headline\" data-mob=\"Srinagar-Jammu national highway reopens for traffic after 7 days\" data-reg=\"Srinagar-Jammu national highway reopens for traffic after 7 days\" data-title=\"Srinagar-Jammu national highway reopens for traffic after 7 days\" id=\"headline_11610256431432\"><a href=\"https://www.livemint.com/news/india/srinagarjammu-national-highway-reopens-for-traffic-after-7-days-11610256431432.html\" onclick=\"event.preventDefault();\">Srinagar-Jammu national highway reopens for traffic after 7 days</a></h2>, <h2 class=\"headline\" data-mob=\"Banished by Twitter, an isolated Trump faces looming impeachment threat\" data-reg=\"Banished by Twitter, an isolated Trump faces looming impeachment threat\" data-title=\"Banished by Twitter, an isolated Trump faces looming impeachment threat\" id=\"headline_11610240174404\"><a href=\"https://www.livemint.com/news/world/banished-by-twitter-an-isolated-trump-faces-looming-impeachment-threat-11610240174404.html\" onclick=\"event.preventDefault();\">Banished by Twitter, an isolated Trump faces looming impeachment threat</a></h2>, <h2 class=\"headline\" data-mob=\"Bird Flu cases confirmed in 13 MP dist, 4 parks in Delhi, Kanpur zoo closed\" data-reg=\"Bird Flu cases confirmed in 13 MP dist, 4 parks in Delhi, Kanpur zoo closed\" data-title=\"Bird Flu cases confirmed in 13 MP dist, 4 parks in Delhi, Kanpur zoo closed\" id=\"headline_11610251788894\"><a href=\"https://www.livemint.com/news/india/bird-flu-update-4-parks-in-delhi-kanpur-zoo-closed-for-visitors-11610251788894.html\" onclick=\"event.preventDefault();\">Bird Flu cases confirmed in 13 MP dist, 4 parks in Delhi, Kanpur zoo closed</a></h2>, <h2 class=\"headline\" data-mob=\"Free bus service for women and elderly in Assam\" data-reg=\"Free bus service for women and elderly in Assam\" data-title=\"Free bus service for women and elderly in Assam\" id=\"headline_11610254298477\"><a href=\"https://www.livemint.com/news/india/free-bus-service-for-women-and-elderly-in-assam-11610254298477.html\" onclick=\"event.preventDefault();\">Free bus service for women and elderly in Assam</a></h2>, <h2 class=\"headline\" data-mob=\"How to update bank account details in EPF Account?\" data-reg=\"How to update bank account details in EPF Account?\" data-title=\"How to update bank account details in EPF Account?\" id=\"headline_11610250681425\"><a href=\"https://www.livemint.com/money/personal-finance/how-to-update-bank-account-details-in-epf-account-11610250681425.html\" onclick=\"event.preventDefault();\">How to update bank account details in EPF Account?</a></h2>, <h2 class=\"headline\" data-mob=\"Israeli PM Benjamin Netanyahu gets second Covid shot\" data-reg=\"Israeli PM Benjamin Netanyahu gets second Covid shot\" data-title=\"Israeli PM Benjamin Netanyahu gets second Covid shot\" id=\"headline_11610249346624\"><a href=\"https://www.livemint.com/news/world/israeli-pm-benjamin-netanyahu-gets-second-covid-shot-11610249346624.html\" onclick=\"event.preventDefault();\">Israeli PM Benjamin Netanyahu gets second Covid shot</a></h2>, <h2 class=\"headline\" data-mob=\"A year after first death in China, coronavirus source still a puzzle\" data-reg=\"A year after first death in China, coronavirus source still a puzzle\" data-title=\"A year after first death in China, coronavirus source still a puzzle\" id=\"headline_11610250662478\"><a href=\"https://www.livemint.com/news/world/a-year-after-first-death-in-china-coronavirus-source-still-a-puzzle-11610250662478.html\" onclick=\"event.preventDefault();\">A year after first death in China, coronavirus source still a puzzle</a></h2>, <h2 class=\"headline\" data-mob=\"Parler CEO says standards set for the app not applied to Twitter or Facebook\" data-reg=\"Parler CEO says standards set for the app not applied to Twitter or Facebook\" data-title=\"Parler CEO says standards set for the app not applied to Twitter or Facebook\" id=\"headline_11610247284925\"><a href=\"https://www.livemint.com/technology/apps/parler-ceo-says-standards-set-for-the-app-not-applied-to-twitter-fb-or-apple-11610247284925.html\" onclick=\"event.preventDefault();\">Parler CEO says standards set for the app not applied to Twitter or Facebook</a></h2>, <h2 class=\"headline\" data-mob=\"TMC, BJP intensify campaigns ahead of West Bengal polls\" data-reg=\"TMC, BJP intensify campaigns ahead of West Bengal polls\" data-title=\"TMC, BJP intensify campaigns ahead of West Bengal polls\" id=\"headline_11610238335154\"><a href=\"https://www.livemint.com/politics/news/tmc-bjp-intensify-campaigns-ahead-of-west-bengal-polls-11610238335154.html\" onclick=\"event.preventDefault();\">TMC, BJP intensify campaigns ahead of West Bengal polls</a></h2>, <h2 class=\"headline\" data-mob=\"Karnataka CM to visit Delhi today, discuss cabinet expansion among other issues\" data-reg=\"Karnataka CM to visit Delhi today, discuss cabinet expansion among other issues\" data-title=\"Karnataka CM to visit Delhi today, discuss cabinet expansion among other issues\" id=\"headline_11610236411625\"><a href=\"https://www.livemint.com/politics/news/karnataka-cm-to-visit-delhi-today-discuss-cabinet-expansion-among-other-issues-11610236411625.html\" onclick=\"event.preventDefault();\">Karnataka CM to visit Delhi today, discuss cabinet expansion among other issues</a></h2>, <h2 class=\"headline\" data-mob=\"Beware of illicit instant loan apps!: SBI warns against digital lending frauds\" data-reg=\"Beware of illicit instant loan apps!: SBI warns against digital lending frauds\" data-title=\"Beware of illicit instant loan apps!: SBI warns against digital lending frauds\" id=\"headline_11610248010993\"><a href=\"https://www.livemint.com/money/personal-finance/beware-of-illicit-instant-loan-apps-sbi-warns-against-digital-lending-frauds-11610248010993.html\" onclick=\"event.preventDefault();\">Beware of illicit instant loan apps!: SBI warns against digital lending frauds</a></h2>, <h2 class=\"headline\" data-mob=\"Sonu Sood moves Bombay High Court against BMC notice for illegal construction\" data-reg=\"Sonu Sood moves Bombay High Court against BMC notice for illegal construction\" data-title=\"Sonu Sood moves Bombay High Court against BMC notice for illegal construction\" id=\"headline_11610260867561\"><a href=\"https://www.livemint.com/industry/media/sonu-sood-moves-bombay-high-court-against-bmc-notice-for-illegal-construction-11610260867561.html\" onclick=\"event.preventDefault();\">Sonu Sood moves Bombay High Court against BMC notice for illegal construction</a></h2>, <h2 class=\"headline\" data-mob=\"HDFC Securities see an upside of 30% in PNC Infratech stock\" data-reg=\"HDFC Securities see an upside of 30% in PNC Infratech stock\" data-title=\"HDFC Securities see an upside of 30% in PNC Infratech stock\" id=\"headline_11610245886813\"><a href=\"https://www.livemint.com/market/stock-market-news/hdfc-securities-see-an-upside-of-30-in-pnc-infratech-stock-11610245886813.html\" onclick=\"event.preventDefault();\">HDFC Securities see an upside of 30% in PNC Infratech stock</a></h2>, <h2 class=\"headline\" data-mob=\"How to deposit money online in post office Sukanya Samriddhi Account\" data-reg=\"How to deposit money online in post office Sukanya Samriddhi Account\" data-title=\"How to deposit money online in post office Sukanya Samriddhi Account\" id=\"headline_11610244191240\"><a href=\"https://www.livemint.com/money/personal-finance/how-to-deposit-money-online-in-post-office-sukanya-samriddhi-account-11610244191240.html\" onclick=\"event.preventDefault();\">How to deposit money online in post office Sukanya Samriddhi Account</a></h2>]\n",
            "0\n",
            "1\n",
            "2\n",
            "3\n",
            "4\n",
            "5\n",
            "6\n",
            "7\n",
            "8\n",
            "9\n",
            "10\n",
            "11\n",
            "12\n",
            "13\n",
            "14\n",
            "15\n",
            "16\n",
            "17\n",
            "18\n",
            "19\n",
            "20\n",
            "21\n",
            "22\n",
            "23\n",
            "24\n",
            "25\n",
            "26\n",
            "27\n",
            "28\n",
            "29\n",
            "30\n",
            "31\n",
            "32\n",
            "33\n",
            "34\n",
            "35\n",
            "36\n",
            "37\n",
            "38\n",
            "39\n",
            "                                                Links  ...                                            Content\n",
            "0   https://www.livemint.com/companies/people/sale...  ...  \\nNEW DELHI :\\nFuture Group expects normal sal...\n",
            "1   https://www.livemint.com/technology/tech-news/...  ...  \\nThe US-China relationship will be the great ...\n",
            "2   https://www.livemint.com/news/world/what-we-al...  ...  \\nFor decades I’ve warned investors about the ...\n",
            "3   https://www.livemint.com/news/world/microsoft-...  ...  \\nFalling out of bed wrecked August de los Rey...\n",
            "4   https://www.livemint.com/news/world/where-to-t...  ...  \\nLinda Lau is looking forward to being jet-la...\n",
            "5   https://www.livemint.com/news/world/what-kids-...  ...  \\nEveryone wants what’s best for their kid, bu...\n",
            "6   https://www.livemint.com/news/india/ahead-of-c...  ...  \\nNew Delhi: With Covid-19 vaccination drive s...\n",
            "7   https://www.livemint.com/news/india/still-not-...  ...  \\nThe extended deadline for individual taxpaye...\n",
            "8   https://www.livemint.com/industry/media/bollyw...  ...  \\nBollywood may have had a tough year with 202...\n",
            "9   https://www.livemint.com/money/personal-financ...  ...  \\nState Bank of India (SBI) has increased fixe...\n",
            "10  https://www.livemint.com/companies/people/kish...  ...  \\nNEW DELHI :\\nIndia's Future Group expects sw...\n",
            "11  https://www.livemint.com/market/commodities/wh...  ...  \\nGold and silver prices fell sharply in India...\n",
            "12  https://www.livemint.com/companies/news/seven-...  ...  \\nSeven of the top-10 most valued Indian firms...\n",
            "13  https://www.livemint.com/news/india/highly-inf...  ...  \\nNew Delhi: No fresh case of the new strain o...\n",
            "14  https://www.livemint.com/news/india/89-covid-v...  ...  \\nA day after it was announced the vaccination...\n",
            "15  https://www.livemint.com/politics/news/free-co...  ...  \\nKolkata: The West Bengal government is makin...\n",
            "16  https://www.livemint.com/news/india/india-repo...  ...  \\nIndia has reported a total of 18,645 fresh c...\n",
            "17  https://www.livemint.com/mutual-fund/mf-news/w...  ...  \\nWith less and less time available for us to ...\n",
            "18  https://www.livemint.com/news/india/pm-narendr...  ...  \\nPrime Minister Narendra Modi will address th...\n",
            "19  https://www.livemint.com/news/world/pakistan-h...  ...  \\nPower was gradually being restored to major ...\n",
            "20  https://www.livemint.com/news/world/4-months-a...  ...  \\nThe Central bank of New Zealand said Sunday ...\n",
            "21  https://www.livemint.com/politics/policy/gover...  ...  \\nNEW DELHI :\\nThe Department of Revenue (DoR)...\n",
            "22  https://www.livemint.com/news/world/body-parts...  ...  \\nDivers pulled body parts, wreckage and cloth...\n",
            "23  https://www.livemint.com/technology/apps/after...  ...  \\nApple Inc has suspended Parler from the App ...\n",
            "24  https://www.livemint.com/companies/news/in-a-f...  ...  \\nAn all-women cockpit crew of Air India has t...\n",
            "25  https://www.livemint.com/market/stock-market-n...  ...  \\nThe rally in the past few months has become ...\n",
            "26  https://www.livemint.com/news/india/suvendu-ad...  ...  \\nTrinamool Congress (TMC) workers have vandal...\n",
            "27  https://www.livemint.com/news/india/srinagarja...  ...  \\nSrinagar: The Srinagar-Jammu national highwa...\n",
            "28  https://www.livemint.com/news/world/banished-b...  ...  \\nWASHINGTON: With only days left in his presi...\n",
            "29  https://www.livemint.com/news/india/bird-flu-u...  ...  \\nAfter seven states have confirmed the spread...\n",
            "30  https://www.livemint.com/news/india/free-bus-s...  ...  \\nAssam Chief Minister Sarbananda Sonowal on S...\n",
            "31  https://www.livemint.com/money/personal-financ...  ...  \\nEmployees' Provident Fund Organisation (EPFO...\n",
            "32  https://www.livemint.com/news/world/israeli-pm...  ...  \\nIsraeli Prime Minister Benjamin Netanyahu on...\n",
            "33  https://www.livemint.com/news/world/a-year-aft...  ...  \\nIt is the world's most pressing scientific p...\n",
            "34  https://www.livemint.com/technology/apps/parle...  ...  \\nAfter Google and Apple dropped Parler app fr...\n",
            "35  https://www.livemint.com/politics/news/tmc-bjp...  ...  \\nAhead of the West Bengal elections, both Tri...\n",
            "36  https://www.livemint.com/politics/news/karnata...  ...  \\nBengaluru: Karnataka Chief Minister BS Yediy...\n",
            "37  https://www.livemint.com/money/personal-financ...  ...  \\nState Bank of India (SBI) has cautioned agai...\n",
            "38  https://www.livemint.com/industry/media/sonu-s...  ...  \\nMUMBAI :\\nBollywood actor Sonu Sood has appr...\n",
            "39  https://www.livemint.com/market/stock-market-n...  ...  \\nHDFC Securities recommends buy rating to the...\n",
            "\n",
            "[40 rows x 3 columns]\n"
          ],
          "name": "stdout"
        }
      ]
    },
    {
      "cell_type": "markdown",
      "metadata": {
        "id": "5CoIaNMG2hyZ"
      },
      "source": [
        "# Util functions - get score, add scores for multiple sentences"
      ]
    },
    {
      "cell_type": "code",
      "metadata": {
        "id": "XjfRt7aQxRF5"
      },
      "source": [
        "def get_score(sentence): \n",
        "    sentence = TEXT.preprocess(sentence)\n",
        "    #print(sentence)\n",
        "    sentence = [[TEXT.vocab.stoi[x] for x in sentence]]\n",
        "    \n",
        "    sentence_ = np.asarray(sentence)\n",
        "    sentence_ = torch.LongTensor(sentence_)\n",
        "    test_tensor = Variable(sentence_)\n",
        "    test_tensor = test_tensor.cuda()\n",
        "    model.eval()\n",
        "    output = model(test_tensor,1)\n",
        "    scores = F.softmax(output,1)\n",
        "    #print(scores)\n",
        "    score = []\n",
        "    score.append(scores[0][0])\n",
        "    score.append(scores[0][1])\n",
        "    return score\n",
        "    # if torch.argmax(scores[0]) == 1:\n",
        "    #     return [1,\"Positive\"]\n",
        "    # else:\n",
        "    #     return [0,\"Negative\"]\n",
        "\n",
        "def get_max_score(list_of_scores):\n",
        "  neg = 0\n",
        "  pos = 0\n",
        "  for each in list_of_scores:\n",
        "    neg += each[0]\n",
        "    pos += each[1]\n",
        "\n",
        "  if neg > pos:\n",
        "    return \"Negative\"\n",
        "  else:\n",
        "    return \"Positive\"\n",
        "\n",
        "def get_element_with_max_frequency(ip):\n",
        "    vals = set(ip)\n",
        "    final = []\n",
        "    for each in vals:\n",
        "        c = 0\n",
        "        for i in ip:\n",
        "            if i == each:\n",
        "                c += 1\n",
        "        final.append([each,c])\n",
        "    sorted_list = sorted(final,key=lambda x:x[-1],reverse=True)\n",
        "#     print(sorted_list)\n",
        "    if sorted_list[0][0] == 1:\n",
        "        return \"Positive\"\n",
        "    else:\n",
        "        return \"Negative\""
      ],
      "execution_count": null,
      "outputs": []
    },
    {
      "cell_type": "markdown",
      "metadata": {
        "id": "HKByD1Ka2ngo"
      },
      "source": [
        "# Run on the news collected and store results"
      ]
    },
    {
      "cell_type": "code",
      "metadata": {
        "id": "7SEssJtxxbip"
      },
      "source": [
        "df['sentences'] = df['Content'].apply(lambda x:[[y,get_score(y)] for y in x.split('.') if y.strip() != ''])\n",
        "df['Document_sentiment'] = df['Content'].apply(lambda x:get_element_with_max_frequency([get_score(y)[0] for y in x.split('.') if y.strip() != '']))\n",
        "df.to_csv('results.csv')"
      ],
      "execution_count": null,
      "outputs": []
    },
    {
      "cell_type": "code",
      "metadata": {
        "id": "i8xLKA0Q2bF9",
        "colab": {
          "base_uri": "https://localhost:8080/",
          "height": 1000
        },
        "outputId": "4b9e7102-6a38-482c-a6c3-207107e31361"
      },
      "source": [
        "df"
      ],
      "execution_count": null,
      "outputs": [
        {
          "output_type": "execute_result",
          "data": {
            "text/html": [
              "<div>\n",
              "<style scoped>\n",
              "    .dataframe tbody tr th:only-of-type {\n",
              "        vertical-align: middle;\n",
              "    }\n",
              "\n",
              "    .dataframe tbody tr th {\n",
              "        vertical-align: top;\n",
              "    }\n",
              "\n",
              "    .dataframe thead th {\n",
              "        text-align: right;\n",
              "    }\n",
              "</style>\n",
              "<table border=\"1\" class=\"dataframe\">\n",
              "  <thead>\n",
              "    <tr style=\"text-align: right;\">\n",
              "      <th></th>\n",
              "      <th>Links</th>\n",
              "      <th>Heading</th>\n",
              "      <th>Content</th>\n",
              "      <th>sentences</th>\n",
              "      <th>Document_sentiment</th>\n",
              "    </tr>\n",
              "  </thead>\n",
              "  <tbody>\n",
              "    <tr>\n",
              "      <th>0</th>\n",
              "      <td>https://www.livemint.com/companies/people/sale...</td>\n",
              "      <td>Sales to normalise by Jan-end, getting orders ...</td>\n",
              "      <td>\\nNEW DELHI :\\nFuture Group expects normal sal...</td>\n",
              "      <td>[[\\nNEW DELHI :\\nFuture Group expects normal s...</td>\n",
              "      <td>Negative</td>\n",
              "    </tr>\n",
              "    <tr>\n",
              "      <th>1</th>\n",
              "      <td>https://www.livemint.com/technology/tech-news/...</td>\n",
              "      <td>The danger of exaggerating China’s technologic...</td>\n",
              "      <td>\\nThe US-China relationship will be the great ...</td>\n",
              "      <td>[[\\nThe US-China relationship will be the grea...</td>\n",
              "      <td>Negative</td>\n",
              "    </tr>\n",
              "    <tr>\n",
              "      <th>2</th>\n",
              "      <td>https://www.livemint.com/news/world/what-we-al...</td>\n",
              "      <td>What we already know about investing in 2021</td>\n",
              "      <td>\\nFor decades I’ve warned investors about the ...</td>\n",
              "      <td>[[\\nFor decades I’ve warned investors about th...</td>\n",
              "      <td>Negative</td>\n",
              "    </tr>\n",
              "    <tr>\n",
              "      <th>3</th>\n",
              "      <td>https://www.livemint.com/news/world/microsoft-...</td>\n",
              "      <td>Microsoft designer fell out of bed and found a...</td>\n",
              "      <td>\\nFalling out of bed wrecked August de los Rey...</td>\n",
              "      <td>[[\\nFalling out of bed wrecked August de los R...</td>\n",
              "      <td>Negative</td>\n",
              "    </tr>\n",
              "    <tr>\n",
              "      <th>4</th>\n",
              "      <td>https://www.livemint.com/news/world/where-to-t...</td>\n",
              "      <td>Where to travel after Covid? 25 inspiring escapes</td>\n",
              "      <td>\\nLinda Lau is looking forward to being jet-la...</td>\n",
              "      <td>[[\\nLinda Lau is looking forward to being jet-...</td>\n",
              "      <td>Positive</td>\n",
              "    </tr>\n",
              "    <tr>\n",
              "      <th>5</th>\n",
              "      <td>https://www.livemint.com/news/world/what-kids-...</td>\n",
              "      <td>What kids can learn from losing</td>\n",
              "      <td>\\nEveryone wants what’s best for their kid, bu...</td>\n",
              "      <td>[[\\nEveryone wants what’s best for their kid, ...</td>\n",
              "      <td>Negative</td>\n",
              "    </tr>\n",
              "    <tr>\n",
              "      <th>6</th>\n",
              "      <td>https://www.livemint.com/news/india/ahead-of-c...</td>\n",
              "      <td>Ahead of Covid vaccination drive, Centre guide...</td>\n",
              "      <td>\\nNew Delhi: With Covid-19 vaccination drive s...</td>\n",
              "      <td>[[\\nNew Delhi: With Covid-19 vaccination drive...</td>\n",
              "      <td>Negative</td>\n",
              "    </tr>\n",
              "    <tr>\n",
              "      <th>7</th>\n",
              "      <td>https://www.livemint.com/news/india/still-not-...</td>\n",
              "      <td>Still not filed your Income Tax Returns? Exten...</td>\n",
              "      <td>\\nThe extended deadline for individual taxpaye...</td>\n",
              "      <td>[[\\nThe extended deadline for individual taxpa...</td>\n",
              "      <td>Positive</td>\n",
              "    </tr>\n",
              "    <tr>\n",
              "      <th>8</th>\n",
              "      <td>https://www.livemint.com/industry/media/bollyw...</td>\n",
              "      <td>Bollywood looking to beat the blues in 2021</td>\n",
              "      <td>\\nBollywood may have had a tough year with 202...</td>\n",
              "      <td>[[\\nBollywood may have had a tough year with 2...</td>\n",
              "      <td>Positive</td>\n",
              "    </tr>\n",
              "    <tr>\n",
              "      <th>9</th>\n",
              "      <td>https://www.livemint.com/money/personal-financ...</td>\n",
              "      <td>SBI revises fixed deposit (FD) rates. Latest F...</td>\n",
              "      <td>\\nState Bank of India (SBI) has increased fixe...</td>\n",
              "      <td>[[\\nState Bank of India (SBI) has increased fi...</td>\n",
              "      <td>Negative</td>\n",
              "    </tr>\n",
              "    <tr>\n",
              "      <th>10</th>\n",
              "      <td>https://www.livemint.com/companies/people/kish...</td>\n",
              "      <td>Kishore Biyani sees quick OK of Future's $3.4 ...</td>\n",
              "      <td>\\nNEW DELHI :\\nIndia's Future Group expects sw...</td>\n",
              "      <td>[[\\nNEW DELHI :\\nIndia's Future Group expects ...</td>\n",
              "      <td>Negative</td>\n",
              "    </tr>\n",
              "    <tr>\n",
              "      <th>11</th>\n",
              "      <td>https://www.livemint.com/market/commodities/wh...</td>\n",
              "      <td>Why gold prices slumped  ₹2,000 in a day and s...</td>\n",
              "      <td>\\nGold and silver prices fell sharply in India...</td>\n",
              "      <td>[[\\nGold and silver prices fell sharply in Ind...</td>\n",
              "      <td>Negative</td>\n",
              "    </tr>\n",
              "    <tr>\n",
              "      <th>12</th>\n",
              "      <td>https://www.livemint.com/companies/news/seven-...</td>\n",
              "      <td>Seven of top 10 most valued firms add over  ₹1...</td>\n",
              "      <td>\\nSeven of the top-10 most valued Indian firms...</td>\n",
              "      <td>[[\\nSeven of the top-10 most valued Indian fir...</td>\n",
              "      <td>Negative</td>\n",
              "    </tr>\n",
              "    <tr>\n",
              "      <th>13</th>\n",
              "      <td>https://www.livemint.com/news/india/highly-inf...</td>\n",
              "      <td>'Highly infectious' new Covid-19 strain in Ind...</td>\n",
              "      <td>\\nNew Delhi: No fresh case of the new strain o...</td>\n",
              "      <td>[[\\nNew Delhi: No fresh case of the new strain...</td>\n",
              "      <td>Positive</td>\n",
              "    </tr>\n",
              "    <tr>\n",
              "      <th>14</th>\n",
              "      <td>https://www.livemint.com/news/india/89-covid-v...</td>\n",
              "      <td>89 Covid vaccination sites identified in Delhi...</td>\n",
              "      <td>\\nA day after it was announced the vaccination...</td>\n",
              "      <td>[[\\nA day after it was announced the vaccinati...</td>\n",
              "      <td>Negative</td>\n",
              "    </tr>\n",
              "    <tr>\n",
              "      <th>15</th>\n",
              "      <td>https://www.livemint.com/politics/news/free-co...</td>\n",
              "      <td>'Free Covid-19 vaccine for everyone in Bengal'...</td>\n",
              "      <td>\\nKolkata: The West Bengal government is makin...</td>\n",
              "      <td>[[\\nKolkata: The West Bengal government is mak...</td>\n",
              "      <td>Negative</td>\n",
              "    </tr>\n",
              "    <tr>\n",
              "      <th>16</th>\n",
              "      <td>https://www.livemint.com/news/india/india-repo...</td>\n",
              "      <td>India reports 18,645 new Covid-19 cases in a d...</td>\n",
              "      <td>\\nIndia has reported a total of 18,645 fresh c...</td>\n",
              "      <td>[[\\nIndia has reported a total of 18,645 fresh...</td>\n",
              "      <td>Negative</td>\n",
              "    </tr>\n",
              "    <tr>\n",
              "      <th>17</th>\n",
              "      <td>https://www.livemint.com/mutual-fund/mf-news/w...</td>\n",
              "      <td>What kind of returns to expect from index mutu...</td>\n",
              "      <td>\\nWith less and less time available for us to ...</td>\n",
              "      <td>[[\\nWith less and less time available for us t...</td>\n",
              "      <td>Negative</td>\n",
              "    </tr>\n",
              "    <tr>\n",
              "      <th>18</th>\n",
              "      <td>https://www.livemint.com/news/india/pm-narendr...</td>\n",
              "      <td>PM Narendra Modi to address valedictory functi...</td>\n",
              "      <td>\\nPrime Minister Narendra Modi will address th...</td>\n",
              "      <td>[[\\nPrime Minister Narendra Modi will address ...</td>\n",
              "      <td>Positive</td>\n",
              "    </tr>\n",
              "    <tr>\n",
              "      <th>19</th>\n",
              "      <td>https://www.livemint.com/news/world/pakistan-h...</td>\n",
              "      <td>Pakistan hit by nationwide power blackout</td>\n",
              "      <td>\\nPower was gradually being restored to major ...</td>\n",
              "      <td>[[\\nPower was gradually being restored to majo...</td>\n",
              "      <td>Negative</td>\n",
              "    </tr>\n",
              "    <tr>\n",
              "      <th>20</th>\n",
              "      <td>https://www.livemint.com/news/world/4-months-a...</td>\n",
              "      <td>4 months after stock market breach, New Zealan...</td>\n",
              "      <td>\\nThe Central bank of New Zealand said Sunday ...</td>\n",
              "      <td>[[\\nThe Central bank of New Zealand said Sunda...</td>\n",
              "      <td>Negative</td>\n",
              "    </tr>\n",
              "    <tr>\n",
              "      <th>21</th>\n",
              "      <td>https://www.livemint.com/politics/policy/gover...</td>\n",
              "      <td>Government clarifies on KYC norms for jeweller...</td>\n",
              "      <td>\\nNEW DELHI :\\nThe Department of Revenue (DoR)...</td>\n",
              "      <td>[[\\nNEW DELHI :\\nThe Department of Revenue (Do...</td>\n",
              "      <td>Negative</td>\n",
              "    </tr>\n",
              "    <tr>\n",
              "      <th>22</th>\n",
              "      <td>https://www.livemint.com/news/world/body-parts...</td>\n",
              "      <td>Body parts found at Indonesian plane crash sit...</td>\n",
              "      <td>\\nDivers pulled body parts, wreckage and cloth...</td>\n",
              "      <td>[[\\nDivers pulled body parts, wreckage and clo...</td>\n",
              "      <td>Negative</td>\n",
              "    </tr>\n",
              "    <tr>\n",
              "      <th>23</th>\n",
              "      <td>https://www.livemint.com/technology/apps/after...</td>\n",
              "      <td>After Google, Apple suspends Parler from App S...</td>\n",
              "      <td>\\nApple Inc has suspended Parler from the App ...</td>\n",
              "      <td>[[\\nApple Inc has suspended Parler from the Ap...</td>\n",
              "      <td>Negative</td>\n",
              "    </tr>\n",
              "    <tr>\n",
              "      <th>24</th>\n",
              "      <td>https://www.livemint.com/companies/news/in-a-f...</td>\n",
              "      <td>In a first, all-women Air India crew fly from ...</td>\n",
              "      <td>\\nAn all-women cockpit crew of Air India has t...</td>\n",
              "      <td>[[\\nAn all-women cockpit crew of Air India has...</td>\n",
              "      <td>Negative</td>\n",
              "    </tr>\n",
              "    <tr>\n",
              "      <th>25</th>\n",
              "      <td>https://www.livemint.com/market/stock-market-n...</td>\n",
              "      <td>Angel Broking's top stock picks for January</td>\n",
              "      <td>\\nThe rally in the past few months has become ...</td>\n",
              "      <td>[[\\nThe rally in the past few months has becom...</td>\n",
              "      <td>Negative</td>\n",
              "    </tr>\n",
              "    <tr>\n",
              "      <th>26</th>\n",
              "      <td>https://www.livemint.com/news/india/suvendu-ad...</td>\n",
              "      <td>Suvendu Adhikari's Nandigram office vandalised</td>\n",
              "      <td>\\nTrinamool Congress (TMC) workers have vandal...</td>\n",
              "      <td>[[\\nTrinamool Congress (TMC) workers have vand...</td>\n",
              "      <td>Negative</td>\n",
              "    </tr>\n",
              "    <tr>\n",
              "      <th>27</th>\n",
              "      <td>https://www.livemint.com/news/india/srinagarja...</td>\n",
              "      <td>Srinagar-Jammu national highway reopens for tr...</td>\n",
              "      <td>\\nSrinagar: The Srinagar-Jammu national highwa...</td>\n",
              "      <td>[[\\nSrinagar: The Srinagar-Jammu national high...</td>\n",
              "      <td>Negative</td>\n",
              "    </tr>\n",
              "    <tr>\n",
              "      <th>28</th>\n",
              "      <td>https://www.livemint.com/news/world/banished-b...</td>\n",
              "      <td>Banished by Twitter, an isolated Trump faces l...</td>\n",
              "      <td>\\nWASHINGTON: With only days left in his presi...</td>\n",
              "      <td>[[\\nWASHINGTON: With only days left in his pre...</td>\n",
              "      <td>Negative</td>\n",
              "    </tr>\n",
              "    <tr>\n",
              "      <th>29</th>\n",
              "      <td>https://www.livemint.com/news/india/bird-flu-u...</td>\n",
              "      <td>Bird Flu cases confirmed in 13 MP dist, 4 park...</td>\n",
              "      <td>\\nAfter seven states have confirmed the spread...</td>\n",
              "      <td>[[\\nAfter seven states have confirmed the spre...</td>\n",
              "      <td>Negative</td>\n",
              "    </tr>\n",
              "    <tr>\n",
              "      <th>30</th>\n",
              "      <td>https://www.livemint.com/news/india/free-bus-s...</td>\n",
              "      <td>Free bus service for women and elderly in Assam</td>\n",
              "      <td>\\nAssam Chief Minister Sarbananda Sonowal on S...</td>\n",
              "      <td>[[\\nAssam Chief Minister Sarbananda Sonowal on...</td>\n",
              "      <td>Negative</td>\n",
              "    </tr>\n",
              "    <tr>\n",
              "      <th>31</th>\n",
              "      <td>https://www.livemint.com/money/personal-financ...</td>\n",
              "      <td>How to update bank account details in EPF Acco...</td>\n",
              "      <td>\\nEmployees' Provident Fund Organisation (EPFO...</td>\n",
              "      <td>[[\\nEmployees' Provident Fund Organisation (EP...</td>\n",
              "      <td>Negative</td>\n",
              "    </tr>\n",
              "    <tr>\n",
              "      <th>32</th>\n",
              "      <td>https://www.livemint.com/news/world/israeli-pm...</td>\n",
              "      <td>Israeli PM Benjamin Netanyahu gets second Covi...</td>\n",
              "      <td>\\nIsraeli Prime Minister Benjamin Netanyahu on...</td>\n",
              "      <td>[[\\nIsraeli Prime Minister Benjamin Netanyahu ...</td>\n",
              "      <td>Positive</td>\n",
              "    </tr>\n",
              "    <tr>\n",
              "      <th>33</th>\n",
              "      <td>https://www.livemint.com/news/world/a-year-aft...</td>\n",
              "      <td>A year after first death in China, coronavirus...</td>\n",
              "      <td>\\nIt is the world's most pressing scientific p...</td>\n",
              "      <td>[[\\nIt is the world's most pressing scientific...</td>\n",
              "      <td>Negative</td>\n",
              "    </tr>\n",
              "    <tr>\n",
              "      <th>34</th>\n",
              "      <td>https://www.livemint.com/technology/apps/parle...</td>\n",
              "      <td>Parler CEO says standards set for the app not ...</td>\n",
              "      <td>\\nAfter Google and Apple dropped Parler app fr...</td>\n",
              "      <td>[[\\nAfter Google and Apple dropped Parler app ...</td>\n",
              "      <td>Negative</td>\n",
              "    </tr>\n",
              "    <tr>\n",
              "      <th>35</th>\n",
              "      <td>https://www.livemint.com/politics/news/tmc-bjp...</td>\n",
              "      <td>TMC, BJP intensify campaigns ahead of West Ben...</td>\n",
              "      <td>\\nAhead of the West Bengal elections, both Tri...</td>\n",
              "      <td>[[\\nAhead of the West Bengal elections, both T...</td>\n",
              "      <td>Negative</td>\n",
              "    </tr>\n",
              "    <tr>\n",
              "      <th>36</th>\n",
              "      <td>https://www.livemint.com/politics/news/karnata...</td>\n",
              "      <td>Karnataka CM to visit Delhi today, discuss cab...</td>\n",
              "      <td>\\nBengaluru: Karnataka Chief Minister BS Yediy...</td>\n",
              "      <td>[[\\nBengaluru: Karnataka Chief Minister BS Yed...</td>\n",
              "      <td>Negative</td>\n",
              "    </tr>\n",
              "    <tr>\n",
              "      <th>37</th>\n",
              "      <td>https://www.livemint.com/money/personal-financ...</td>\n",
              "      <td>Beware of illicit instant loan apps!: SBI warn...</td>\n",
              "      <td>\\nState Bank of India (SBI) has cautioned agai...</td>\n",
              "      <td>[[\\nState Bank of India (SBI) has cautioned ag...</td>\n",
              "      <td>Positive</td>\n",
              "    </tr>\n",
              "    <tr>\n",
              "      <th>38</th>\n",
              "      <td>https://www.livemint.com/industry/media/sonu-s...</td>\n",
              "      <td>Sonu Sood moves Bombay High Court against BMC ...</td>\n",
              "      <td>\\nMUMBAI :\\nBollywood actor Sonu Sood has appr...</td>\n",
              "      <td>[[\\nMUMBAI :\\nBollywood actor Sonu Sood has ap...</td>\n",
              "      <td>Negative</td>\n",
              "    </tr>\n",
              "    <tr>\n",
              "      <th>39</th>\n",
              "      <td>https://www.livemint.com/market/stock-market-n...</td>\n",
              "      <td>HDFC Securities see an upside of 30% in PNC In...</td>\n",
              "      <td>\\nHDFC Securities recommends buy rating to the...</td>\n",
              "      <td>[[\\nHDFC Securities recommends buy rating to t...</td>\n",
              "      <td>Negative</td>\n",
              "    </tr>\n",
              "  </tbody>\n",
              "</table>\n",
              "</div>"
            ],
            "text/plain": [
              "                                                Links  ... Document_sentiment\n",
              "0   https://www.livemint.com/companies/people/sale...  ...           Negative\n",
              "1   https://www.livemint.com/technology/tech-news/...  ...           Negative\n",
              "2   https://www.livemint.com/news/world/what-we-al...  ...           Negative\n",
              "3   https://www.livemint.com/news/world/microsoft-...  ...           Negative\n",
              "4   https://www.livemint.com/news/world/where-to-t...  ...           Positive\n",
              "5   https://www.livemint.com/news/world/what-kids-...  ...           Negative\n",
              "6   https://www.livemint.com/news/india/ahead-of-c...  ...           Negative\n",
              "7   https://www.livemint.com/news/india/still-not-...  ...           Positive\n",
              "8   https://www.livemint.com/industry/media/bollyw...  ...           Positive\n",
              "9   https://www.livemint.com/money/personal-financ...  ...           Negative\n",
              "10  https://www.livemint.com/companies/people/kish...  ...           Negative\n",
              "11  https://www.livemint.com/market/commodities/wh...  ...           Negative\n",
              "12  https://www.livemint.com/companies/news/seven-...  ...           Negative\n",
              "13  https://www.livemint.com/news/india/highly-inf...  ...           Positive\n",
              "14  https://www.livemint.com/news/india/89-covid-v...  ...           Negative\n",
              "15  https://www.livemint.com/politics/news/free-co...  ...           Negative\n",
              "16  https://www.livemint.com/news/india/india-repo...  ...           Negative\n",
              "17  https://www.livemint.com/mutual-fund/mf-news/w...  ...           Negative\n",
              "18  https://www.livemint.com/news/india/pm-narendr...  ...           Positive\n",
              "19  https://www.livemint.com/news/world/pakistan-h...  ...           Negative\n",
              "20  https://www.livemint.com/news/world/4-months-a...  ...           Negative\n",
              "21  https://www.livemint.com/politics/policy/gover...  ...           Negative\n",
              "22  https://www.livemint.com/news/world/body-parts...  ...           Negative\n",
              "23  https://www.livemint.com/technology/apps/after...  ...           Negative\n",
              "24  https://www.livemint.com/companies/news/in-a-f...  ...           Negative\n",
              "25  https://www.livemint.com/market/stock-market-n...  ...           Negative\n",
              "26  https://www.livemint.com/news/india/suvendu-ad...  ...           Negative\n",
              "27  https://www.livemint.com/news/india/srinagarja...  ...           Negative\n",
              "28  https://www.livemint.com/news/world/banished-b...  ...           Negative\n",
              "29  https://www.livemint.com/news/india/bird-flu-u...  ...           Negative\n",
              "30  https://www.livemint.com/news/india/free-bus-s...  ...           Negative\n",
              "31  https://www.livemint.com/money/personal-financ...  ...           Negative\n",
              "32  https://www.livemint.com/news/world/israeli-pm...  ...           Positive\n",
              "33  https://www.livemint.com/news/world/a-year-aft...  ...           Negative\n",
              "34  https://www.livemint.com/technology/apps/parle...  ...           Negative\n",
              "35  https://www.livemint.com/politics/news/tmc-bjp...  ...           Negative\n",
              "36  https://www.livemint.com/politics/news/karnata...  ...           Negative\n",
              "37  https://www.livemint.com/money/personal-financ...  ...           Positive\n",
              "38  https://www.livemint.com/industry/media/sonu-s...  ...           Negative\n",
              "39  https://www.livemint.com/market/stock-market-n...  ...           Negative\n",
              "\n",
              "[40 rows x 5 columns]"
            ]
          },
          "metadata": {
            "tags": []
          },
          "execution_count": 21
        }
      ]
    },
    {
      "cell_type": "markdown",
      "metadata": {
        "id": "2GNl_XxT3cCp"
      },
      "source": [
        "refered to multiple resources online"
      ]
    }
  ]
}